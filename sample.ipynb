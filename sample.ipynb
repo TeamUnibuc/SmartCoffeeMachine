{
 "cells": [
  {
   "cell_type": "markdown",
   "metadata": {},
   "source": [
    "# Sample Usages"
   ]
  },
  {
   "cell_type": "markdown",
   "metadata": {},
   "source": [
    "### Using the Database"
   ]
  },
  {
   "cell_type": "code",
   "execution_count": 2,
   "metadata": {},
   "outputs": [
    {
     "name": "stderr",
     "output_type": "stream",
     "text": [
      "<ipython-input-2-b8f79a5e294d>:3: DeprecationWarning: insert is deprecated. Use insert_one or insert_many instead.\n",
      "  database.recipes.insert({ \"idk\": 123 })\n"
     ]
    },
    {
     "data": {
      "text/plain": [
       "{'_id': ObjectId('61d6110cd210e2cabef49f74'), 'idk': 123}"
      ]
     },
     "execution_count": 2,
     "metadata": {},
     "output_type": "execute_result"
    }
   ],
   "source": [
    "import server.database as database\n",
    "\n",
    "database.recipes.insert({ \"idk\": 123 })\n",
    "\n",
    "database.recipes.find().next()"
   ]
  },
  {
   "cell_type": "markdown",
   "metadata": {},
   "source": [
    "### Using the MQTT protocol"
   ]
  },
  {
   "cell_type": "code",
   "execution_count": 1,
   "metadata": {},
   "outputs": [
    {
     "name": "stdout",
     "output_type": "stream",
     "text": [
      "{'machine_id': '', 'coffee_level': 0, 'milk_level': 0, 'water_level': 0, 'sugar_level': 0}\n"
     ]
    }
   ],
   "source": [
    "import common.mqtt_connection as mqtt_connection\n",
    "import common.mqtt_messages as mqtt_messages\n",
    "\n",
    "mqtt_connection.register_callback(\"1234\", lambda x: print(x))\n",
    "\n",
    "ob = mqtt_messages.MachineLevels()\n",
    "\n",
    "mqtt_connection.publish(\"1234\", ob)\n"
   ]
  },
  {
   "cell_type": "code",
   "execution_count": null,
   "metadata": {},
   "outputs": [],
   "source": []
  }
 ],
 "metadata": {
  "interpreter": {
   "hash": "9f4aa4478d175579f83eaf1cc1322b217241d8ccdf84fcbd0d0080ee8bf8a48e"
  },
  "kernelspec": {
   "display_name": "Python 3.8.8 64-bit ('base': conda)",
   "language": "python",
   "name": "python3"
  },
  "language_info": {
   "codemirror_mode": {
    "name": "ipython",
    "version": 3
   },
   "file_extension": ".py",
   "mimetype": "text/x-python",
   "name": "python",
   "nbconvert_exporter": "python",
   "pygments_lexer": "ipython3",
   "version": "3.8.8"
  },
  "orig_nbformat": 4
 },
 "nbformat": 4,
 "nbformat_minor": 2
}
