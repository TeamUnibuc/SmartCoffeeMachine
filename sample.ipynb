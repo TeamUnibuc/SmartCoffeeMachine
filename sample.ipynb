{
 "cells": [
  {
   "cell_type": "code",
   "execution_count": 5,
   "metadata": {},
   "outputs": [
    {
     "name": "stdout",
     "output_type": "stream",
     "text": [
      "creating new instance\n",
      "connecting to broker\n",
      "Subscribing to topic house/bulbs/bulb1\n",
      "Publishing message to topic house/bulbs/bulb1\n",
      "message received  OFF\n",
      "message topic= house/bulbs/bulb1\n",
      "message qos= 0\n",
      "message retain flag= 0\n"
     ]
    }
   ],
   "source": [
    "import paho.mqtt.client as mqtt #import the client1\n",
    "import time\n",
    "\n",
    "############\n",
    "def on_message(client, userdata, message):\n",
    "    print(\"message received \" ,str(message.payload.decode(\"utf-8\")))\n",
    "    print(\"message topic=\",message.topic)\n",
    "    print(\"message qos=\",message.qos)\n",
    "    print(\"message retain flag=\",message.retain)\n",
    "########################################\n",
    "broker_address=\"broker.emqx.io\"\n",
    "#broker_address=\"iot.eclipse.org\"\n",
    "print(\"creating new instance\")\n",
    "client = mqtt.Client(\"P1\") #create new instance\n",
    "client.on_message=on_message #attach function to callback\n",
    "print(\"connecting to broker\")\n",
    "client.connect(broker_address) #connect to broker\n",
    "client.loop_start() #start the loop\n",
    "print(\"Subscribing to topic\",\"house/bulbs/bulb1\")\n",
    "client.subscribe(\"house/bulbs/bulb1\")\n",
    "print(\"Publishing message to topic\",\"house/bulbs/bulb1\")\n",
    "client.publish(\"house/bulbs/bulb1\",\"OFF\")\n",
    "time.sleep(4) # wait\n",
    "client.loop_stop() #stop the loop"
   ]
  },
  {
   "cell_type": "code",
   "execution_count": null,
   "metadata": {},
   "outputs": [],
   "source": []
  }
 ],
 "metadata": {
  "interpreter": {
   "hash": "9f4aa4478d175579f83eaf1cc1322b217241d8ccdf84fcbd0d0080ee8bf8a48e"
  },
  "kernelspec": {
   "display_name": "Python 3.8.8 64-bit ('base': conda)",
   "language": "python",
   "name": "python3"
  },
  "language_info": {
   "codemirror_mode": {
    "name": "ipython",
    "version": 3
   },
   "file_extension": ".py",
   "mimetype": "text/x-python",
   "name": "python",
   "nbconvert_exporter": "python",
   "pygments_lexer": "ipython3",
   "version": "3.8.8"
  },
  "orig_nbformat": 4
 },
 "nbformat": 4,
 "nbformat_minor": 2
}
